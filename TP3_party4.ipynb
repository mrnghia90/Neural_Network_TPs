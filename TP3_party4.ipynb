{
 "cells": [
  {
   "cell_type": "code",
   "execution_count": 1,
   "id": "8bf148fa",
   "metadata": {},
   "outputs": [],
   "source": [
    "%reset -f\n",
    "import numpy as np\n",
    "import time\n",
    "from tensorflow.keras.models import Sequential\n",
    "from tensorflow.keras import layers\n",
    "from tensorflow.keras import optimizers\n",
    "from tensorflow.keras.layers import Dense\n",
    "from tensorflow.keras.callbacks import EarlyStopping\n",
    "from tensorflow.keras.callbacks import ModelCheckpoint\n",
    "import matplotlib.pyplot as plt\n",
    "from tensorflow.keras.models import load_model"
   ]
  },
  {
   "cell_type": "code",
   "execution_count": 2,
   "id": "b6fcebb5",
   "metadata": {},
   "outputs": [],
   "source": [
    "np.random.seed(1)"
   ]
  },
  {
   "cell_type": "code",
   "execution_count": 3,
   "id": "935116c1",
   "metadata": {},
   "outputs": [
    {
     "name": "stdout",
     "output_type": "stream",
     "text": [
      "(768, 9)\n",
      "[[  6.    148.     72.    ...   0.627  50.      1.   ]\n",
      " [  1.     85.     66.    ...   0.351  31.      0.   ]\n",
      " [  8.    183.     64.    ...   0.672  32.      1.   ]\n",
      " ...\n",
      " [  5.    121.     72.    ...   0.245  30.      0.   ]\n",
      " [  1.    126.     60.    ...   0.349  47.      1.   ]\n",
      " [  1.     93.     70.    ...   0.315  23.      0.   ]]\n"
     ]
    }
   ],
   "source": [
    "#Read the data\n",
    "dataset = np.loadtxt('pima-indians-diabetes.csv', delimiter = \",\")\n",
    "print(dataset.shape)\n",
    "print(dataset)"
   ]
  },
  {
   "cell_type": "code",
   "execution_count": 4,
   "id": "ec39676a",
   "metadata": {},
   "outputs": [],
   "source": [
    "#Split int to input(X) and output (Y) variables\n",
    "X = dataset[:,0:8]\n",
    "y = dataset[:,8]"
   ]
  },
  {
   "cell_type": "code",
   "execution_count": 5,
   "id": "ae5dcce9",
   "metadata": {},
   "outputs": [],
   "source": [
    "#Normaliser des données\n",
    "mean = X.mean(axis = 0)\n",
    "std = X.std(axis = 0)"
   ]
  },
  {
   "cell_type": "code",
   "execution_count": 6,
   "id": "b783f1f5",
   "metadata": {},
   "outputs": [
    {
     "ename": "SyntaxError",
     "evalue": "invalid syntax (<ipython-input-6-baa87b6c629a>, line 9)",
     "output_type": "error",
     "traceback": [
      "\u001b[0;36m  File \u001b[0;32m\"<ipython-input-6-baa87b6c629a>\"\u001b[0;36m, line \u001b[0;32m9\u001b[0m\n\u001b[0;31m    model.add(Dense(1, activation = 'sigmoid'))\u001b[0m\n\u001b[0m    ^\u001b[0m\n\u001b[0;31mSyntaxError\u001b[0m\u001b[0;31m:\u001b[0m invalid syntax\n"
     ]
    }
   ],
   "source": [
    "def creat_model(X_t,y_t,X_v,y_v):\n",
    "\n",
    "    model = Sequential()\n",
    "\n",
    "    # No choice for the input dimension, it must be 8 because of 8 parameters\n",
    "    model.add(Dense(12,activation = 'relu',input_dim = 8))\n",
    "    #for i in range(in)\n",
    "    model.add(Dense(8, activation = 'relu' )\n",
    "    model.add(Dense(1, activation = 'sigmoid'))\n",
    "    \n",
    "    model.compile(optimizer = 'adam', loss = 'binary_crossentropy',metrics =  'accuracy')\n",
    "    model.fit(X_t,y_t,epochs = 100, batch_size = 10,verbose = 0,validation_data = (X_v,y_v), callbacks = callbacks)\n",
    "    \n",
    "    return model"
   ]
  },
  {
   "cell_type": "code",
   "execution_count": null,
   "id": "4cf36947",
   "metadata": {},
   "outputs": [],
   "source": [
    "from sklearn.model_selection import StratifiedKFold\n",
    "# define 10-fold data validation\n",
    "kfold = StratifiedKFold(n_splits = 10, shuffle = True, random_state = 0)\n",
    "\n",
    "from sklearn.model_selection import train_test_split\n",
    "\n",
    "X_kfold, X_test, y_kfold, y_test = train_test_split(X,y, test_size = 0.2, shuffle = True, random_state = 1)\n",
    "\n",
    "count  = 0\n",
    "for train_index,test_index in kfold.split(X_kfold,y_kfold):\n",
    "    #Callbacks\n",
    "    count = count + 1\n",
    "    \n",
    "    callbacks = [\n",
    "        EarlyStopping(monitor = \"val_accuracy\", patience = 20),\n",
    "        ModelCheckpoint(\n",
    "        filepath = \"TP3-party4//my_best_model\"+ str(count)+'.hdf5',\n",
    "        monitor = 'val_accuracy',mode = 'max', save_best_only = True, verbose = 1\n",
    "        )\n",
    "    ]\n",
    "   \n",
    "    model = creat_model(X_kfold[train_index],y_kfold[train_index],X_kfold[test_index],y_kfold[test_index])\n"
   ]
  },
  {
   "cell_type": "code",
   "execution_count": null,
   "id": "7ebfe56b",
   "metadata": {},
   "outputs": [],
   "source": [
    "all_model =[]\n",
    "n_folds = 10\n",
    "for i in range(n_folds):\n",
    "    all_model.append(load_model(\"TP3-party4//my_best_model\"+ str(i+1)+'.hdf5'))"
   ]
  },
  {
   "cell_type": "code",
   "execution_count": null,
   "id": "c537b005",
   "metadata": {},
   "outputs": [],
   "source": [
    "model_predict_moyenne = all_model[0].predict(X_test)\n",
    "for i in range(1,n_folds):\n",
    "    model_predict_moyenne  = model_predict_moyenne + all_model[i].predict(X_test)\n",
    "model_predict_moyenne = np.round(model_predict_moyenne/n_folds)\n",
    "\n",
    "print('accuracy : ', 1- np.sum(np.abs(model_predict_moyenne[:,0]-y_test))/len(y_test))"
   ]
  }
 ],
 "metadata": {
  "kernelspec": {
   "display_name": "Python 3",
   "language": "python",
   "name": "python3"
  },
  "language_info": {
   "codemirror_mode": {
    "name": "ipython",
    "version": 3
   },
   "file_extension": ".py",
   "mimetype": "text/x-python",
   "name": "python",
   "nbconvert_exporter": "python",
   "pygments_lexer": "ipython3",
   "version": "3.8.2"
  }
 },
 "nbformat": 4,
 "nbformat_minor": 5
}
