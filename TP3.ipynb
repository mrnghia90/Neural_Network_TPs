{
 "cells": [
  {
   "cell_type": "code",
   "execution_count": 1,
   "id": "8bf148fa",
   "metadata": {},
   "outputs": [
    {
     "name": "stderr",
     "output_type": "stream",
     "text": [
      "Using TensorFlow backend.\n"
     ]
    }
   ],
   "source": [
    "%reset -f\n",
    "import numpy as np\n",
    "import time\n",
    "from tensorflow.keras import models\n",
    "from tensorflow.keras import layers\n",
    "from tensorflow.keras import optimizers\n",
    "from keras.layers import Dense\n",
    "import matplotlib.pyplot as plt"
   ]
  },
  {
   "cell_type": "code",
   "execution_count": 2,
   "id": "7aa28977",
   "metadata": {},
   "outputs": [],
   "source": [
    "np.random.seed(1)"
   ]
  },
  {
   "cell_type": "code",
   "execution_count": 3,
   "id": "935116c1",
   "metadata": {},
   "outputs": [
    {
     "name": "stdout",
     "output_type": "stream",
     "text": [
      "(768, 9)\n",
      "[[  6.    148.     72.    ...   0.627  50.      1.   ]\n",
      " [  1.     85.     66.    ...   0.351  31.      0.   ]\n",
      " [  8.    183.     64.    ...   0.672  32.      1.   ]\n",
      " ...\n",
      " [  5.    121.     72.    ...   0.245  30.      0.   ]\n",
      " [  1.    126.     60.    ...   0.349  47.      1.   ]\n",
      " [  1.     93.     70.    ...   0.315  23.      0.   ]]\n"
     ]
    }
   ],
   "source": [
    "#Read the data\n",
    "dataset = np.loadtxt('pima-indians-diabetes.csv', delimiter = \",\")\n",
    "print(dataset.shape)\n",
    "print(dataset)"
   ]
  },
  {
   "cell_type": "code",
   "execution_count": 4,
   "id": "deafa678",
   "metadata": {},
   "outputs": [],
   "source": [
    "#Split int to input(X) and output (Y) variables\n",
    "X = dataset[:,0:8]\n",
    "y = dataset[:,8]"
   ]
  },
  {
   "cell_type": "code",
   "execution_count": 5,
   "id": "b783f1f5",
   "metadata": {},
   "outputs": [
    {
     "name": "stdout",
     "output_type": "stream",
     "text": [
      "Model: \"sequential\"\n",
      "_________________________________________________________________\n",
      "Layer (type)                 Output Shape              Param #   \n",
      "=================================================================\n",
      "dense (Dense)                (None, 12)                108       \n",
      "_________________________________________________________________\n",
      "dense_1 (Dense)              (None, 8)                 104       \n",
      "_________________________________________________________________\n",
      "dense_2 (Dense)              (None, 1)                 9         \n",
      "=================================================================\n",
      "Total params: 221\n",
      "Trainable params: 221\n",
      "Non-trainable params: 0\n",
      "_________________________________________________________________\n"
     ]
    }
   ],
   "source": [
    "model = models.Sequential()\n",
    "\n",
    "# No choice for the input dimension, it must be 8 because of 8 parameters\n",
    "model.add(layers.Dense(12,activation = 'relu',input_dim = 8))\n",
    "model.add(layers.Dense(8, activation = 'relu', kernel_initializer = \"uniform\"))\n",
    "# model\n",
    "\n",
    "model.add(layers.Dense(1, kernel_initializer = \"uniform\", activation = 'sigmoid'))\n",
    "model.summary()"
   ]
  },
  {
   "cell_type": "code",
   "execution_count": 6,
   "id": "c159288b",
   "metadata": {},
   "outputs": [
    {
     "name": "stdout",
     "output_type": "stream",
     "text": [
      "Epoch 1/100\n",
      "52/52 [==============================] - 2s 24ms/step - loss: 0.6858 - accuracy: 0.5448 - val_loss: 0.6526 - val_accuracy: 0.6732\n",
      "Epoch 2/100\n",
      "52/52 [==============================] - 0s 5ms/step - loss: 0.6670 - accuracy: 0.6242 - val_loss: 0.6412 - val_accuracy: 0.6811\n",
      "Epoch 3/100\n",
      "52/52 [==============================] - 0s 4ms/step - loss: 0.6566 - accuracy: 0.6140 - val_loss: 0.6279 - val_accuracy: 0.6654\n",
      "Epoch 4/100\n",
      "52/52 [==============================] - 0s 6ms/step - loss: 0.6423 - accuracy: 0.6233 - val_loss: 0.6202 - val_accuracy: 0.6811\n",
      "Epoch 5/100\n",
      "52/52 [==============================] - 0s 3ms/step - loss: 0.6403 - accuracy: 0.6260 - val_loss: 0.6167 - val_accuracy: 0.6732\n",
      "Epoch 6/100\n",
      "52/52 [==============================] - 0s 4ms/step - loss: 0.6098 - accuracy: 0.6794 - val_loss: 0.6184 - val_accuracy: 0.6614\n",
      "Epoch 7/100\n",
      "52/52 [==============================] - 0s 4ms/step - loss: 0.6063 - accuracy: 0.6820 - val_loss: 0.6105 - val_accuracy: 0.6693\n",
      "Epoch 8/100\n",
      "52/52 [==============================] - 0s 4ms/step - loss: 0.6245 - accuracy: 0.6530 - val_loss: 0.6019 - val_accuracy: 0.6811\n",
      "Epoch 9/100\n",
      "52/52 [==============================] - 0s 4ms/step - loss: 0.6194 - accuracy: 0.6553 - val_loss: 0.5971 - val_accuracy: 0.6929\n",
      "Epoch 10/100\n",
      "52/52 [==============================] - 0s 5ms/step - loss: 0.6293 - accuracy: 0.6417 - val_loss: 0.5941 - val_accuracy: 0.6890\n",
      "Epoch 11/100\n",
      "52/52 [==============================] - 0s 4ms/step - loss: 0.6236 - accuracy: 0.6460 - val_loss: 0.5924 - val_accuracy: 0.7008\n",
      "Epoch 12/100\n",
      "52/52 [==============================] - 0s 5ms/step - loss: 0.5975 - accuracy: 0.6754 - val_loss: 0.5991 - val_accuracy: 0.6732\n",
      "Epoch 13/100\n",
      "52/52 [==============================] - 0s 7ms/step - loss: 0.5809 - accuracy: 0.7101 - val_loss: 0.5878 - val_accuracy: 0.6811\n",
      "Epoch 14/100\n",
      "52/52 [==============================] - 0s 5ms/step - loss: 0.5905 - accuracy: 0.6741 - val_loss: 0.5840 - val_accuracy: 0.7126\n",
      "Epoch 15/100\n",
      "52/52 [==============================] - 0s 4ms/step - loss: 0.5989 - accuracy: 0.6812 - val_loss: 0.5844 - val_accuracy: 0.6693\n",
      "Epoch 16/100\n",
      "52/52 [==============================] - 0s 8ms/step - loss: 0.5893 - accuracy: 0.6912 - val_loss: 0.5820 - val_accuracy: 0.6850\n",
      "Epoch 17/100\n",
      "52/52 [==============================] - 0s 4ms/step - loss: 0.5885 - accuracy: 0.7013 - val_loss: 0.5788 - val_accuracy: 0.7165\n",
      "Epoch 18/100\n",
      "52/52 [==============================] - 0s 5ms/step - loss: 0.5750 - accuracy: 0.6958 - val_loss: 0.5884 - val_accuracy: 0.6772\n",
      "Epoch 19/100\n",
      "52/52 [==============================] - 0s 5ms/step - loss: 0.5730 - accuracy: 0.7140 - val_loss: 0.5820 - val_accuracy: 0.7165\n",
      "Epoch 20/100\n",
      "52/52 [==============================] - 0s 4ms/step - loss: 0.6250 - accuracy: 0.6565 - val_loss: 0.5858 - val_accuracy: 0.6890\n",
      "Epoch 21/100\n",
      "52/52 [==============================] - 0s 6ms/step - loss: 0.5903 - accuracy: 0.6837 - val_loss: 0.5824 - val_accuracy: 0.6850\n",
      "Epoch 22/100\n",
      "52/52 [==============================] - 0s 4ms/step - loss: 0.5616 - accuracy: 0.7088 - val_loss: 0.5803 - val_accuracy: 0.6772\n",
      "Epoch 23/100\n",
      "52/52 [==============================] - 0s 5ms/step - loss: 0.5798 - accuracy: 0.6832 - val_loss: 0.5739 - val_accuracy: 0.7244\n",
      "Epoch 24/100\n",
      "52/52 [==============================] - 0s 5ms/step - loss: 0.5692 - accuracy: 0.6971 - val_loss: 0.5740 - val_accuracy: 0.7087\n",
      "Epoch 25/100\n",
      "52/52 [==============================] - 0s 4ms/step - loss: 0.5903 - accuracy: 0.6762 - val_loss: 0.5816 - val_accuracy: 0.6890\n",
      "Epoch 26/100\n",
      "52/52 [==============================] - 0s 5ms/step - loss: 0.5755 - accuracy: 0.7060 - val_loss: 0.5783 - val_accuracy: 0.6890\n",
      "Epoch 27/100\n",
      "52/52 [==============================] - 0s 4ms/step - loss: 0.5851 - accuracy: 0.7017 - val_loss: 0.5740 - val_accuracy: 0.6811\n",
      "Epoch 28/100\n",
      "52/52 [==============================] - 0s 4ms/step - loss: 0.5822 - accuracy: 0.7009 - val_loss: 0.5711 - val_accuracy: 0.7205\n",
      "Epoch 29/100\n",
      "52/52 [==============================] - 0s 4ms/step - loss: 0.5749 - accuracy: 0.7065 - val_loss: 0.5908 - val_accuracy: 0.6693\n",
      "Epoch 30/100\n",
      "52/52 [==============================] - 0s 6ms/step - loss: 0.5942 - accuracy: 0.6786 - val_loss: 0.5676 - val_accuracy: 0.7165\n",
      "Epoch 31/100\n",
      "52/52 [==============================] - 0s 5ms/step - loss: 0.5815 - accuracy: 0.7060 - val_loss: 0.5818 - val_accuracy: 0.7047\n",
      "Epoch 32/100\n",
      "52/52 [==============================] - 0s 5ms/step - loss: 0.5953 - accuracy: 0.6595 - val_loss: 0.5737 - val_accuracy: 0.6772\n",
      "Epoch 33/100\n",
      "52/52 [==============================] - 0s 5ms/step - loss: 0.5936 - accuracy: 0.6888 - val_loss: 0.5704 - val_accuracy: 0.6772\n",
      "Epoch 34/100\n",
      "52/52 [==============================] - 0s 4ms/step - loss: 0.5538 - accuracy: 0.7422 - val_loss: 0.5685 - val_accuracy: 0.6890\n",
      "Epoch 35/100\n",
      "52/52 [==============================] - 0s 6ms/step - loss: 0.5742 - accuracy: 0.7223 - val_loss: 0.5655 - val_accuracy: 0.6850\n",
      "Epoch 36/100\n",
      "52/52 [==============================] - 0s 5ms/step - loss: 0.5382 - accuracy: 0.7564 - val_loss: 0.5584 - val_accuracy: 0.7047\n",
      "Epoch 37/100\n",
      "52/52 [==============================] - 0s 5ms/step - loss: 0.5363 - accuracy: 0.7325 - val_loss: 0.5759 - val_accuracy: 0.7047\n",
      "Epoch 38/100\n",
      "52/52 [==============================] - 0s 4ms/step - loss: 0.5644 - accuracy: 0.7067 - val_loss: 0.5568 - val_accuracy: 0.7244\n",
      "Epoch 39/100\n",
      "52/52 [==============================] - 0s 3ms/step - loss: 0.5293 - accuracy: 0.7151 - val_loss: 0.5797 - val_accuracy: 0.7047\n",
      "Epoch 40/100\n",
      "52/52 [==============================] - 0s 5ms/step - loss: 0.5760 - accuracy: 0.6997 - val_loss: 0.5551 - val_accuracy: 0.7087\n",
      "Epoch 41/100\n",
      "52/52 [==============================] - 0s 4ms/step - loss: 0.5498 - accuracy: 0.7538 - val_loss: 0.5557 - val_accuracy: 0.7244\n",
      "Epoch 42/100\n",
      "52/52 [==============================] - 0s 5ms/step - loss: 0.5438 - accuracy: 0.7248 - val_loss: 0.5577 - val_accuracy: 0.7205\n",
      "Epoch 43/100\n",
      "52/52 [==============================] - 0s 4ms/step - loss: 0.5580 - accuracy: 0.7152 - val_loss: 0.5597 - val_accuracy: 0.6929\n",
      "Epoch 44/100\n",
      "52/52 [==============================] - 0s 4ms/step - loss: 0.5481 - accuracy: 0.7309 - val_loss: 0.5547 - val_accuracy: 0.7244\n",
      "Epoch 45/100\n",
      "52/52 [==============================] - 0s 4ms/step - loss: 0.5473 - accuracy: 0.7311 - val_loss: 0.5543 - val_accuracy: 0.7205\n",
      "Epoch 46/100\n",
      "52/52 [==============================] - 0s 4ms/step - loss: 0.5872 - accuracy: 0.7007 - val_loss: 0.5522 - val_accuracy: 0.7402\n",
      "Epoch 47/100\n",
      "52/52 [==============================] - 0s 5ms/step - loss: 0.5417 - accuracy: 0.7301 - val_loss: 0.5511 - val_accuracy: 0.7362\n",
      "Epoch 48/100\n",
      "52/52 [==============================] - 0s 5ms/step - loss: 0.6034 - accuracy: 0.6826 - val_loss: 0.5483 - val_accuracy: 0.7441\n",
      "Epoch 49/100\n",
      "52/52 [==============================] - 0s 5ms/step - loss: 0.5519 - accuracy: 0.7275 - val_loss: 0.5912 - val_accuracy: 0.6693\n",
      "Epoch 50/100\n",
      "52/52 [==============================] - 0s 5ms/step - loss: 0.5715 - accuracy: 0.7168 - val_loss: 0.5466 - val_accuracy: 0.7165\n",
      "Epoch 51/100\n",
      "52/52 [==============================] - 0s 5ms/step - loss: 0.5434 - accuracy: 0.7525 - val_loss: 0.5452 - val_accuracy: 0.7441\n",
      "Epoch 52/100\n",
      "52/52 [==============================] - 0s 4ms/step - loss: 0.5281 - accuracy: 0.7269 - val_loss: 0.5627 - val_accuracy: 0.7047\n",
      "Epoch 53/100\n",
      "52/52 [==============================] - 0s 5ms/step - loss: 0.5430 - accuracy: 0.7096 - val_loss: 0.5485 - val_accuracy: 0.7362\n",
      "Epoch 54/100\n",
      "52/52 [==============================] - 0s 5ms/step - loss: 0.5488 - accuracy: 0.7127 - val_loss: 0.5500 - val_accuracy: 0.7008\n",
      "Epoch 55/100\n",
      "52/52 [==============================] - 0s 7ms/step - loss: 0.5165 - accuracy: 0.7412 - val_loss: 0.5420 - val_accuracy: 0.7205\n",
      "Epoch 56/100\n",
      "52/52 [==============================] - 0s 5ms/step - loss: 0.5461 - accuracy: 0.7511 - val_loss: 0.5490 - val_accuracy: 0.7087\n",
      "Epoch 57/100\n",
      "52/52 [==============================] - 0s 5ms/step - loss: 0.5466 - accuracy: 0.7321 - val_loss: 0.5458 - val_accuracy: 0.7087\n",
      "Epoch 58/100\n",
      "52/52 [==============================] - 0s 6ms/step - loss: 0.5374 - accuracy: 0.7394 - val_loss: 0.5576 - val_accuracy: 0.6969\n"
     ]
    },
    {
     "name": "stdout",
     "output_type": "stream",
     "text": [
      "Epoch 59/100\n",
      "52/52 [==============================] - 0s 5ms/step - loss: 0.5686 - accuracy: 0.7114 - val_loss: 0.5457 - val_accuracy: 0.7126\n",
      "Epoch 60/100\n",
      "52/52 [==============================] - 0s 5ms/step - loss: 0.5767 - accuracy: 0.7094 - val_loss: 0.5476 - val_accuracy: 0.7087\n",
      "Epoch 61/100\n",
      "52/52 [==============================] - 0s 4ms/step - loss: 0.5420 - accuracy: 0.7208 - val_loss: 0.5369 - val_accuracy: 0.7244\n",
      "Epoch 62/100\n",
      "52/52 [==============================] - 0s 6ms/step - loss: 0.5504 - accuracy: 0.7123 - val_loss: 0.5451 - val_accuracy: 0.7087\n",
      "Epoch 63/100\n",
      "52/52 [==============================] - 0s 7ms/step - loss: 0.5477 - accuracy: 0.7294 - val_loss: 0.5640 - val_accuracy: 0.7008\n",
      "Epoch 64/100\n",
      "52/52 [==============================] - 0s 5ms/step - loss: 0.5679 - accuracy: 0.7005 - val_loss: 0.5577 - val_accuracy: 0.6929\n",
      "Epoch 65/100\n",
      "52/52 [==============================] - 0s 4ms/step - loss: 0.5369 - accuracy: 0.7395 - val_loss: 0.5423 - val_accuracy: 0.7283\n",
      "Epoch 66/100\n",
      "52/52 [==============================] - 0s 5ms/step - loss: 0.5512 - accuracy: 0.7367 - val_loss: 0.5432 - val_accuracy: 0.7087\n",
      "Epoch 67/100\n",
      "52/52 [==============================] - 0s 5ms/step - loss: 0.5148 - accuracy: 0.7533 - val_loss: 0.5367 - val_accuracy: 0.7323\n",
      "Epoch 68/100\n",
      "52/52 [==============================] - 0s 6ms/step - loss: 0.5042 - accuracy: 0.7685 - val_loss: 0.5423 - val_accuracy: 0.7283\n",
      "Epoch 69/100\n",
      "52/52 [==============================] - 1s 10ms/step - loss: 0.5130 - accuracy: 0.7437 - val_loss: 0.5366 - val_accuracy: 0.7402\n",
      "Epoch 70/100\n",
      "52/52 [==============================] - 0s 6ms/step - loss: 0.5541 - accuracy: 0.7356 - val_loss: 0.5354 - val_accuracy: 0.7402\n",
      "Epoch 71/100\n",
      "52/52 [==============================] - 0s 6ms/step - loss: 0.5380 - accuracy: 0.7219 - val_loss: 0.5417 - val_accuracy: 0.7441\n",
      "Epoch 72/100\n",
      "52/52 [==============================] - 1s 10ms/step - loss: 0.5703 - accuracy: 0.7407 - val_loss: 0.5448 - val_accuracy: 0.7283\n",
      "Epoch 73/100\n",
      "52/52 [==============================] - 0s 6ms/step - loss: 0.5634 - accuracy: 0.7006 - val_loss: 0.5559 - val_accuracy: 0.7087\n",
      "Epoch 74/100\n",
      "52/52 [==============================] - 0s 7ms/step - loss: 0.5366 - accuracy: 0.7086 - val_loss: 0.5362 - val_accuracy: 0.7283\n",
      "Epoch 75/100\n",
      "52/52 [==============================] - 0s 5ms/step - loss: 0.5273 - accuracy: 0.7352 - val_loss: 0.5483 - val_accuracy: 0.7126\n",
      "Epoch 76/100\n",
      "52/52 [==============================] - 0s 4ms/step - loss: 0.5296 - accuracy: 0.7572 - val_loss: 0.5503 - val_accuracy: 0.7047\n",
      "Epoch 77/100\n",
      "52/52 [==============================] - 0s 4ms/step - loss: 0.5154 - accuracy: 0.7290 - val_loss: 0.5378 - val_accuracy: 0.7165\n",
      "Epoch 78/100\n",
      "52/52 [==============================] - 0s 4ms/step - loss: 0.5472 - accuracy: 0.7064 - val_loss: 0.5349 - val_accuracy: 0.7244\n",
      "Epoch 79/100\n",
      "52/52 [==============================] - 0s 5ms/step - loss: 0.5257 - accuracy: 0.7512 - val_loss: 0.5338 - val_accuracy: 0.7480\n",
      "Epoch 80/100\n",
      "52/52 [==============================] - 0s 8ms/step - loss: 0.4697 - accuracy: 0.7924 - val_loss: 0.5389 - val_accuracy: 0.7165\n",
      "Epoch 81/100\n",
      "52/52 [==============================] - 0s 4ms/step - loss: 0.5262 - accuracy: 0.7554 - val_loss: 0.5332 - val_accuracy: 0.7402\n",
      "Epoch 82/100\n",
      "52/52 [==============================] - 0s 4ms/step - loss: 0.5391 - accuracy: 0.7344 - val_loss: 0.5314 - val_accuracy: 0.7441\n",
      "Epoch 83/100\n",
      "52/52 [==============================] - 0s 3ms/step - loss: 0.5422 - accuracy: 0.7223 - val_loss: 0.5311 - val_accuracy: 0.7480\n",
      "Epoch 84/100\n",
      "52/52 [==============================] - 0s 4ms/step - loss: 0.5427 - accuracy: 0.7121 - val_loss: 0.5271 - val_accuracy: 0.7441\n",
      "Epoch 85/100\n",
      "52/52 [==============================] - 0s 8ms/step - loss: 0.5537 - accuracy: 0.7382 - val_loss: 0.5340 - val_accuracy: 0.7323\n",
      "Epoch 86/100\n",
      "52/52 [==============================] - 0s 5ms/step - loss: 0.5355 - accuracy: 0.7145 - val_loss: 0.5252 - val_accuracy: 0.7559\n",
      "Epoch 87/100\n",
      "52/52 [==============================] - 0s 4ms/step - loss: 0.5405 - accuracy: 0.7226 - val_loss: 0.5253 - val_accuracy: 0.7520\n",
      "Epoch 88/100\n",
      "52/52 [==============================] - 0s 4ms/step - loss: 0.5122 - accuracy: 0.7289 - val_loss: 0.5369 - val_accuracy: 0.7362\n",
      "Epoch 89/100\n",
      "52/52 [==============================] - 0s 5ms/step - loss: 0.5457 - accuracy: 0.7275 - val_loss: 0.5269 - val_accuracy: 0.7441\n",
      "Epoch 90/100\n",
      "52/52 [==============================] - 0s 6ms/step - loss: 0.5354 - accuracy: 0.7481 - val_loss: 0.5323 - val_accuracy: 0.7244\n",
      "Epoch 91/100\n",
      "52/52 [==============================] - 0s 6ms/step - loss: 0.5084 - accuracy: 0.7720 - val_loss: 0.5349 - val_accuracy: 0.7165\n",
      "Epoch 92/100\n",
      "52/52 [==============================] - 0s 5ms/step - loss: 0.4879 - accuracy: 0.7703 - val_loss: 0.5259 - val_accuracy: 0.7441\n",
      "Epoch 93/100\n",
      "52/52 [==============================] - 0s 6ms/step - loss: 0.5462 - accuracy: 0.7267 - val_loss: 0.5268 - val_accuracy: 0.7559\n",
      "Epoch 94/100\n",
      "52/52 [==============================] - 0s 6ms/step - loss: 0.5317 - accuracy: 0.7324 - val_loss: 0.5291 - val_accuracy: 0.7520\n",
      "Epoch 95/100\n",
      "52/52 [==============================] - 0s 4ms/step - loss: 0.5498 - accuracy: 0.7073 - val_loss: 0.5248 - val_accuracy: 0.7402\n",
      "Epoch 96/100\n",
      "52/52 [==============================] - 0s 5ms/step - loss: 0.5032 - accuracy: 0.7441 - val_loss: 0.5229 - val_accuracy: 0.7677\n",
      "Epoch 97/100\n",
      "52/52 [==============================] - 0s 6ms/step - loss: 0.5417 - accuracy: 0.7238 - val_loss: 0.5275 - val_accuracy: 0.7559\n",
      "Epoch 98/100\n",
      "52/52 [==============================] - 0s 6ms/step - loss: 0.5273 - accuracy: 0.7250 - val_loss: 0.5245 - val_accuracy: 0.7677\n",
      "Epoch 99/100\n",
      "52/52 [==============================] - 1s 12ms/step - loss: 0.5014 - accuracy: 0.7507 - val_loss: 0.5287 - val_accuracy: 0.7480\n",
      "Epoch 100/100\n",
      "52/52 [==============================] - 0s 5ms/step - loss: 0.5004 - accuracy: 0.7708 - val_loss: 0.5272 - val_accuracy: 0.7362\n",
      "dict_keys(['loss', 'accuracy', 'val_loss', 'val_accuracy'])\n"
     ]
    }
   ],
   "source": [
    "#Train\n",
    "model.compile(optimizer = 'adam', loss = 'binary_crossentropy',metrics =  'accuracy')\n",
    "hist = model.fit(X,y,epochs = 100, batch_size = 10,validation_split = 0.33)\n",
    "print(hist.history.keys())"
   ]
  },
  {
   "cell_type": "code",
   "execution_count": 7,
   "id": "95911168",
   "metadata": {},
   "outputs": [
    {
     "data": {
      "image/png": "[encoded data removed]",
      "text/plain": [
       "<Figure size 432x288 with 1 Axes>"
      ]
     },
     "metadata": {
      "needs_background": "light"
     },
     "output_type": "display_data"
    }
   ],
   "source": [
    "train_loss = hist.history['loss']\n",
    "valid_loss = hist.history['val_loss']\n",
    "ep = range(1, len(train_loss)+1)\n",
    "plt.figure()\n",
    "plt.plot(ep,train_loss,'b-')\n",
    "plt.plot(ep,valid_loss,'r-')\n",
    "plt.title('Training and validation loss')\n",
    "plt.show()"
   ]
  },
  {
   "cell_type": "code",
   "execution_count": 9,
   "id": "47033ffe",
   "metadata": {},
   "outputs": [
    {
     "data": {
      "image/png": "[encoded data removed]",
      "text/plain": [
       "<Figure size 432x288 with 1 Axes>"
      ]
     },
     "metadata": {
      "needs_background": "light"
     },
     "output_type": "display_data"
    }
   ],
   "source": [
    "train_acc = hist.history['accuracy']\n",
    "valid_acc = hist.history['val_accuracy']\n",
    "ep = range(1, len(train_loss)+1)\n",
    "plt.figure()\n",
    "plt.plot(ep,train_acc,'b-')\n",
    "plt.plot(ep,valid_acc,'r-')\n",
    "plt.title('Training and validation accuracy')\n",
    "plt.show()"
   ]
  }
 ],
 "metadata": {
  "kernelspec": {
   "display_name": "Python 3",
   "language": "python",
   "name": "python3"
  },
  "language_info": {
   "codemirror_mode": {
    "name": "ipython",
    "version": 3
   },
   "file_extension": ".py",
   "mimetype": "text/x-python",
   "name": "python",
   "nbconvert_exporter": "python",
   "pygments_lexer": "ipython3",
   "version": "3.8.2"
  }
 },
 "nbformat": 4,
 "nbformat_minor": 5
}
