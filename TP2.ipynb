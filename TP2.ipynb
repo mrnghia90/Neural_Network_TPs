{
 "cells": [
  {
   "cell_type": "code",
   "execution_count": 1,
   "id": "8bf148fa",
   "metadata": {},
   "outputs": [],
   "source": [
    "%reset -f\n",
    "import numpy as np\n",
    "import time\n",
    "from tensorflow.keras import models\n",
    "from tensorflow.keras import layers\n",
    "from tensorflow.keras import optimizers\n",
    "import matplotlib.pyplot as plt"
   ]
  },
  {
   "cell_type": "code",
   "execution_count": 2,
   "id": "935116c1",
   "metadata": {},
   "outputs": [
    {
     "name": "stdout",
     "output_type": "stream",
     "text": [
      "(508, 1000)\n",
      "[[3.9109366e+04 4.4807198e+04 3.4937566e+04 ... 8.7210820e+04\n",
      "  8.9752334e+04 5.6742021e+04]\n",
      " [3.1062793e-01 2.9816743e-01 3.0475226e-01 ... 2.9333598e-01\n",
      "  2.9709712e-01 2.9218382e-01]\n",
      " [1.2305831e-01 1.2890564e-01 1.1906042e-01 ... 1.1926085e-01\n",
      "  1.1351692e-01 1.2509022e-01]\n",
      " ...\n",
      " [1.9002720e+01 1.9669765e+01 1.4601104e+01 ... 2.1828421e+01\n",
      "  2.6109394e+01 2.1814933e+01]\n",
      " [1.9859154e+01 2.0049529e+01 1.4856846e+01 ... 2.2094261e+01\n",
      "  2.6323599e+01 2.2099352e+01]\n",
      " [2.0351126e+01 2.0396294e+01 1.5086969e+01 ... 2.2351606e+01\n",
      "  2.6528366e+01 1.1712700e+01]]\n"
     ]
    }
   ],
   "source": [
    "d = np.loadtxt('data1000.txt')\n",
    "print(d.shape)\n",
    "print(d)"
   ]
  },
  {
   "cell_type": "code",
   "execution_count": 3,
   "id": "810c98e8",
   "metadata": {},
   "outputs": [
    {
     "name": "stdout",
     "output_type": "stream",
     "text": [
      "shape of X_train: (900, 8)\n",
      "shape of y_train: (900, 500)\n",
      "shape of X_val: (100, 8)\n",
      "shape of y_val: (100, 500)\n"
     ]
    }
   ],
   "source": [
    "X_train = d[0:8,0:900]\n",
    "y_train = d[8:509,0:900]\n",
    "\n",
    "X_val =d[0:8,900:]\n",
    "y_val = d[8:509,900:]\n",
    "\n",
    "X_train = X_train.T\n",
    "print('shape of X_train:', X_train.shape)\n",
    "\n",
    "y_train = y_train.T\n",
    "print('shape of y_train:', y_train.shape)\n",
    "\n",
    "X_val = X_val.T\n",
    "print('shape of X_val:', X_val.shape)\n",
    "\n",
    "y_val = y_val.T\n",
    "print('shape of y_val:', y_val.shape)"
   ]
  },
  {
   "cell_type": "code",
   "execution_count": 4,
   "id": "270ec5d8",
   "metadata": {},
   "outputs": [],
   "source": [
    "#Normalisation (Scaling)\n",
    "mean = X_train.mean(axis = 0)\n",
    "std = X_train.std(axis = 0)\n",
    "\n",
    "X_train = (X_train-mean)/std\n",
    "X_val = (X_val-mean)/std"
   ]
  },
  {
   "cell_type": "code",
   "execution_count": 5,
   "id": "b783f1f5",
   "metadata": {},
   "outputs": [
    {
     "name": "stdout",
     "output_type": "stream",
     "text": [
      "Model: \"sequential\"\n",
      "_________________________________________________________________\n",
      "Layer (type)                 Output Shape              Param #   \n",
      "=================================================================\n",
      "dense (Dense)                (None, 128)               1152      \n",
      "_________________________________________________________________\n",
      "dense_1 (Dense)              (None, 128)               16512     \n",
      "_________________________________________________________________\n",
      "dense_2 (Dense)              (None, 500)               64500     \n",
      "=================================================================\n",
      "Total params: 82,164\n",
      "Trainable params: 82,164\n",
      "Non-trainable params: 0\n",
      "_________________________________________________________________\n"
     ]
    }
   ],
   "source": [
    "model = models.Sequential()\n",
    "\n",
    "# No choice for the input dimension, it must be 8 because of 8 parameters\n",
    "model.add(layers.Dense(128,activation = 'relu',input_dim = 8))\n",
    "model.add(layers.Dense(128,activation = 'relu', kernel_initializer = \"uniform\"))\n",
    "# model\n",
    "\"\"\"\n",
    "liste_unit = [128,128,128,128,128,64,64,64,64,64]\n",
    "unit = np.random.choice(liste_unit)\n",
    "for i in range(10):\n",
    "    model.add(layers.Dense(liste_unit[i],activation = 'relu', kernel_initializer = \"uniform\"))\n",
    "\"\"\"\n",
    "model.add(layers.Dense(500, kernel_initializer = \"uniform\"))\n",
    "model.summary()"
   ]
  },
  {
   "cell_type": "code",
   "execution_count": 6,
   "id": "c159288b",
   "metadata": {},
   "outputs": [
    {
     "name": "stdout",
     "output_type": "stream",
     "text": [
      "Epoch 1/130\n",
      "29/29 [==============================] - 1s 34ms/step - loss: 545.6353 - mse: 545.6353 - val_loss: 477.9379 - val_mse: 477.9379\n",
      "Epoch 2/130\n",
      "29/29 [==============================] - 1s 17ms/step - loss: 399.4333 - mse: 399.4333 - val_loss: 169.3991 - val_mse: 169.3991\n",
      "Epoch 3/130\n",
      "29/29 [==============================] - 0s 8ms/step - loss: 142.8214 - mse: 142.8214 - val_loss: 112.0854 - val_mse: 112.0854\n",
      "Epoch 4/130\n",
      "29/29 [==============================] - 0s 7ms/step - loss: 109.8404 - mse: 109.8404 - val_loss: 110.2470 - val_mse: 110.2470\n",
      "Epoch 5/130\n",
      "29/29 [==============================] - 0s 8ms/step - loss: 105.4929 - mse: 105.4929 - val_loss: 109.3248 - val_mse: 109.3248\n",
      "Epoch 6/130\n",
      "29/29 [==============================] - 0s 6ms/step - loss: 107.5477 - mse: 107.5477 - val_loss: 108.1197 - val_mse: 108.1197\n",
      "Epoch 7/130\n",
      "29/29 [==============================] - 0s 6ms/step - loss: 106.2566 - mse: 106.2566 - val_loss: 106.7026 - val_mse: 106.7026\n",
      "Epoch 8/130\n",
      "29/29 [==============================] - 0s 6ms/step - loss: 102.6019 - mse: 102.6019 - val_loss: 104.9311 - val_mse: 104.9311\n",
      "Epoch 9/130\n",
      "29/29 [==============================] - 0s 6ms/step - loss: 103.1706 - mse: 103.1706 - val_loss: 102.8058 - val_mse: 102.8058\n",
      "Epoch 10/130\n",
      "29/29 [==============================] - 0s 7ms/step - loss: 101.1363 - mse: 101.1363 - val_loss: 100.5882 - val_mse: 100.5882\n",
      "Epoch 11/130\n",
      "29/29 [==============================] - 0s 5ms/step - loss: 98.0268 - mse: 98.0268 - val_loss: 97.5197 - val_mse: 97.5197\n",
      "Epoch 12/130\n",
      "29/29 [==============================] - 0s 8ms/step - loss: 96.5493 - mse: 96.5493 - val_loss: 94.0174 - val_mse: 94.0174\n",
      "Epoch 13/130\n",
      "29/29 [==============================] - 0s 8ms/step - loss: 92.3724 - mse: 92.3724 - val_loss: 89.9523 - val_mse: 89.9523\n",
      "Epoch 14/130\n",
      "29/29 [==============================] - 0s 16ms/step - loss: 88.1468 - mse: 88.1468 - val_loss: 85.8086 - val_mse: 85.8086\n",
      "Epoch 15/130\n",
      "29/29 [==============================] - 0s 7ms/step - loss: 86.3769 - mse: 86.3769 - val_loss: 83.0685 - val_mse: 83.0685\n",
      "Epoch 16/130\n",
      "29/29 [==============================] - 0s 7ms/step - loss: 82.3063 - mse: 82.3063 - val_loss: 81.0573 - val_mse: 81.0573\n",
      "Epoch 17/130\n",
      "29/29 [==============================] - 0s 8ms/step - loss: 82.1411 - mse: 82.1411 - val_loss: 78.8959 - val_mse: 78.8959\n",
      "Epoch 18/130\n",
      "29/29 [==============================] - 0s 8ms/step - loss: 78.6233 - mse: 78.6233 - val_loss: 77.3459 - val_mse: 77.3459\n",
      "Epoch 19/130\n",
      "29/29 [==============================] - 0s 10ms/step - loss: 77.8006 - mse: 77.8006 - val_loss: 75.4830 - val_mse: 75.4830\n",
      "Epoch 20/130\n",
      "29/29 [==============================] - 0s 9ms/step - loss: 75.5048 - mse: 75.5048 - val_loss: 73.3687 - val_mse: 73.3687\n",
      "Epoch 21/130\n",
      "29/29 [==============================] - 0s 10ms/step - loss: 74.4420 - mse: 74.4420 - val_loss: 71.7156 - val_mse: 71.7156\n",
      "Epoch 22/130\n",
      "29/29 [==============================] - 0s 8ms/step - loss: 72.1951 - mse: 72.1951 - val_loss: 70.5287 - val_mse: 70.5287\n",
      "Epoch 23/130\n",
      "29/29 [==============================] - 0s 12ms/step - loss: 74.1737 - mse: 74.1737 - val_loss: 69.4277 - val_mse: 69.4277\n",
      "Epoch 24/130\n",
      "29/29 [==============================] - 0s 10ms/step - loss: 72.0540 - mse: 72.0540 - val_loss: 69.0962 - val_mse: 69.0962\n",
      "Epoch 25/130\n",
      "29/29 [==============================] - 0s 5ms/step - loss: 72.0046 - mse: 72.0046 - val_loss: 68.8107 - val_mse: 68.8107\n",
      "Epoch 26/130\n",
      "29/29 [==============================] - 0s 8ms/step - loss: 70.9104 - mse: 70.9104 - val_loss: 68.2967 - val_mse: 68.2967\n",
      "Epoch 27/130\n",
      "29/29 [==============================] - 0s 8ms/step - loss: 70.5997 - mse: 70.5997 - val_loss: 67.8013 - val_mse: 67.8013\n",
      "Epoch 28/130\n",
      "29/29 [==============================] - 0s 6ms/step - loss: 70.1230 - mse: 70.1230 - val_loss: 67.2679 - val_mse: 67.2679\n",
      "Epoch 29/130\n",
      "29/29 [==============================] - 0s 8ms/step - loss: 68.8913 - mse: 68.8913 - val_loss: 66.9561 - val_mse: 66.9561\n",
      "Epoch 30/130\n",
      "29/29 [==============================] - 0s 10ms/step - loss: 69.6915 - mse: 69.6915 - val_loss: 66.6009 - val_mse: 66.6009\n",
      "Epoch 31/130\n",
      "29/29 [==============================] - 0s 9ms/step - loss: 68.2395 - mse: 68.2395 - val_loss: 66.3570 - val_mse: 66.3570\n",
      "Epoch 32/130\n",
      "29/29 [==============================] - 0s 11ms/step - loss: 68.1622 - mse: 68.1622 - val_loss: 65.9771 - val_mse: 65.9771\n",
      "Epoch 33/130\n",
      "29/29 [==============================] - 0s 7ms/step - loss: 67.0428 - mse: 67.0428 - val_loss: 65.4984 - val_mse: 65.4984\n",
      "Epoch 34/130\n",
      "29/29 [==============================] - 0s 10ms/step - loss: 67.6087 - mse: 67.6087 - val_loss: 65.5184 - val_mse: 65.5184\n",
      "Epoch 35/130\n",
      "29/29 [==============================] - 0s 9ms/step - loss: 66.8794 - mse: 66.8794 - val_loss: 65.1575 - val_mse: 65.1575\n",
      "Epoch 36/130\n",
      "29/29 [==============================] - 0s 7ms/step - loss: 66.6295 - mse: 66.6295 - val_loss: 64.9738 - val_mse: 64.9738\n",
      "Epoch 37/130\n",
      "29/29 [==============================] - 0s 6ms/step - loss: 66.4612 - mse: 66.4612 - val_loss: 64.9510 - val_mse: 64.9510\n",
      "Epoch 38/130\n",
      "29/29 [==============================] - 0s 6ms/step - loss: 66.6501 - mse: 66.6501 - val_loss: 64.3666 - val_mse: 64.3666\n",
      "Epoch 39/130\n",
      "29/29 [==============================] - 1s 18ms/step - loss: 66.6691 - mse: 66.6691 - val_loss: 64.3401 - val_mse: 64.3401\n",
      "Epoch 40/130\n",
      "29/29 [==============================] - 0s 10ms/step - loss: 65.9732 - mse: 65.9732 - val_loss: 64.0796 - val_mse: 64.0796\n",
      "Epoch 41/130\n",
      "29/29 [==============================] - 0s 10ms/step - loss: 65.1181 - mse: 65.1181 - val_loss: 63.6185 - val_mse: 63.6185\n",
      "Epoch 42/130\n",
      "29/29 [==============================] - 0s 9ms/step - loss: 64.7636 - mse: 64.7636 - val_loss: 63.2932 - val_mse: 63.2932\n",
      "Epoch 43/130\n",
      "29/29 [==============================] - 0s 9ms/step - loss: 65.6752 - mse: 65.6752 - val_loss: 63.2005 - val_mse: 63.2005\n",
      "Epoch 44/130\n",
      "29/29 [==============================] - 0s 9ms/step - loss: 64.2628 - mse: 64.2628 - val_loss: 62.6777 - val_mse: 62.6777\n",
      "Epoch 45/130\n",
      "29/29 [==============================] - 0s 7ms/step - loss: 64.1154 - mse: 64.1154 - val_loss: 62.4366 - val_mse: 62.4366\n",
      "Epoch 46/130\n",
      "29/29 [==============================] - 0s 8ms/step - loss: 63.6274 - mse: 63.6274 - val_loss: 62.2212 - val_mse: 62.2212\n",
      "Epoch 47/130\n",
      "29/29 [==============================] - 0s 8ms/step - loss: 63.6648 - mse: 63.6648 - val_loss: 61.6962 - val_mse: 61.6962\n",
      "Epoch 48/130\n",
      "29/29 [==============================] - 0s 10ms/step - loss: 61.6285 - mse: 61.6285 - val_loss: 61.4516 - val_mse: 61.4516\n",
      "Epoch 49/130\n",
      "29/29 [==============================] - 0s 10ms/step - loss: 62.9853 - mse: 62.9853 - val_loss: 60.8122 - val_mse: 60.8122\n",
      "Epoch 50/130\n",
      "29/29 [==============================] - 0s 8ms/step - loss: 62.6321 - mse: 62.6321 - val_loss: 60.3823 - val_mse: 60.3823\n",
      "Epoch 51/130\n",
      "29/29 [==============================] - 0s 9ms/step - loss: 61.8228 - mse: 61.8228 - val_loss: 59.7430 - val_mse: 59.7430\n",
      "Epoch 52/130\n",
      "29/29 [==============================] - 0s 6ms/step - loss: 61.1014 - mse: 61.1014 - val_loss: 58.9913 - val_mse: 58.9913\n",
      "Epoch 53/130\n",
      "29/29 [==============================] - 0s 8ms/step - loss: 60.8534 - mse: 60.8534 - val_loss: 58.4740 - val_mse: 58.4740\n",
      "Epoch 54/130\n",
      "29/29 [==============================] - 0s 8ms/step - loss: 59.5521 - mse: 59.5521 - val_loss: 58.0356 - val_mse: 58.0356\n",
      "Epoch 55/130\n",
      "29/29 [==============================] - 0s 8ms/step - loss: 58.9690 - mse: 58.9690 - val_loss: 57.3385 - val_mse: 57.3385\n",
      "Epoch 56/130\n",
      "29/29 [==============================] - 0s 8ms/step - loss: 58.4551 - mse: 58.4551 - val_loss: 56.6580 - val_mse: 56.6580\n",
      "Epoch 57/130\n",
      "29/29 [==============================] - 0s 9ms/step - loss: 57.5902 - mse: 57.5902 - val_loss: 56.0497 - val_mse: 56.0497\n",
      "Epoch 58/130\n",
      "29/29 [==============================] - 0s 9ms/step - loss: 56.9822 - mse: 56.9822 - val_loss: 55.4158 - val_mse: 55.4158\n",
      "Epoch 59/130\n",
      "29/29 [==============================] - 0s 8ms/step - loss: 57.1464 - mse: 57.1464 - val_loss: 55.2320 - val_mse: 55.2320\n",
      "Epoch 60/130\n",
      "29/29 [==============================] - 0s 6ms/step - loss: 55.8668 - mse: 55.8668 - val_loss: 54.5155 - val_mse: 54.5155\n"
     ]
    },
    {
     "name": "stdout",
     "output_type": "stream",
     "text": [
      "Epoch 61/130\n",
      "29/29 [==============================] - 0s 6ms/step - loss: 55.2182 - mse: 55.2182 - val_loss: 54.2372 - val_mse: 54.2372\n",
      "Epoch 62/130\n",
      "29/29 [==============================] - 0s 9ms/step - loss: 54.9410 - mse: 54.9410 - val_loss: 53.5085 - val_mse: 53.5085\n",
      "Epoch 63/130\n",
      "29/29 [==============================] - 0s 9ms/step - loss: 53.8173 - mse: 53.8173 - val_loss: 52.8436 - val_mse: 52.8436\n",
      "Epoch 64/130\n",
      "29/29 [==============================] - 0s 4ms/step - loss: 53.7941 - mse: 53.7941 - val_loss: 52.4072 - val_mse: 52.4072\n",
      "Epoch 65/130\n",
      "29/29 [==============================] - 0s 4ms/step - loss: 53.2796 - mse: 53.2796 - val_loss: 51.9628 - val_mse: 51.9628\n",
      "Epoch 66/130\n",
      "29/29 [==============================] - 0s 7ms/step - loss: 52.4369 - mse: 52.4369 - val_loss: 51.4213 - val_mse: 51.4213\n",
      "Epoch 67/130\n",
      "29/29 [==============================] - 0s 7ms/step - loss: 52.3092 - mse: 52.3092 - val_loss: 51.0809 - val_mse: 51.0809\n",
      "Epoch 68/130\n",
      "29/29 [==============================] - 0s 7ms/step - loss: 51.2959 - mse: 51.2959 - val_loss: 50.7026 - val_mse: 50.7026\n",
      "Epoch 69/130\n",
      "29/29 [==============================] - 0s 7ms/step - loss: 51.1812 - mse: 51.1812 - val_loss: 50.3618 - val_mse: 50.3618\n",
      "Epoch 70/130\n",
      "29/29 [==============================] - 0s 9ms/step - loss: 50.8915 - mse: 50.8915 - val_loss: 49.9474 - val_mse: 49.9474\n",
      "Epoch 71/130\n",
      "29/29 [==============================] - 0s 12ms/step - loss: 49.8311 - mse: 49.8311 - val_loss: 49.9292 - val_mse: 49.9292\n",
      "Epoch 72/130\n",
      "29/29 [==============================] - 0s 11ms/step - loss: 50.3667 - mse: 50.3667 - val_loss: 49.3898 - val_mse: 49.3898\n",
      "Epoch 73/130\n",
      "29/29 [==============================] - 0s 14ms/step - loss: 49.5374 - mse: 49.5374 - val_loss: 49.0004 - val_mse: 49.0004\n",
      "Epoch 74/130\n",
      "29/29 [==============================] - 0s 4ms/step - loss: 49.7807 - mse: 49.7807 - val_loss: 48.7629 - val_mse: 48.7629\n",
      "Epoch 75/130\n",
      "29/29 [==============================] - 0s 7ms/step - loss: 48.7851 - mse: 48.7851 - val_loss: 48.5800 - val_mse: 48.5800\n",
      "Epoch 76/130\n",
      "29/29 [==============================] - 0s 5ms/step - loss: 49.1559 - mse: 49.1559 - val_loss: 48.2334 - val_mse: 48.2334\n",
      "Epoch 77/130\n",
      "29/29 [==============================] - 0s 11ms/step - loss: 47.6163 - mse: 47.6163 - val_loss: 47.9058 - val_mse: 47.9058\n",
      "Epoch 78/130\n",
      "29/29 [==============================] - 0s 10ms/step - loss: 48.2192 - mse: 48.2192 - val_loss: 47.8795 - val_mse: 47.8795\n",
      "Epoch 79/130\n",
      "29/29 [==============================] - 0s 10ms/step - loss: 48.3204 - mse: 48.3204 - val_loss: 47.5302 - val_mse: 47.5302\n",
      "Epoch 80/130\n",
      "29/29 [==============================] - 0s 4ms/step - loss: 47.7881 - mse: 47.7881 - val_loss: 47.2659 - val_mse: 47.2659\n",
      "Epoch 81/130\n",
      "29/29 [==============================] - 0s 12ms/step - loss: 47.4437 - mse: 47.4437 - val_loss: 47.2346 - val_mse: 47.2346\n",
      "Epoch 82/130\n",
      "29/29 [==============================] - 0s 11ms/step - loss: 47.9653 - mse: 47.9653 - val_loss: 47.0034 - val_mse: 47.0034\n",
      "Epoch 83/130\n",
      "29/29 [==============================] - 0s 9ms/step - loss: 47.4313 - mse: 47.4313 - val_loss: 46.7384 - val_mse: 46.7384\n",
      "Epoch 84/130\n",
      "29/29 [==============================] - 0s 7ms/step - loss: 47.9525 - mse: 47.9525 - val_loss: 46.6226 - val_mse: 46.6226\n",
      "Epoch 85/130\n",
      "29/29 [==============================] - 0s 7ms/step - loss: 47.2411 - mse: 47.2411 - val_loss: 46.4215 - val_mse: 46.4215\n",
      "Epoch 86/130\n",
      "29/29 [==============================] - 0s 7ms/step - loss: 46.9173 - mse: 46.9173 - val_loss: 46.3475 - val_mse: 46.3475\n",
      "Epoch 87/130\n",
      "29/29 [==============================] - 0s 8ms/step - loss: 45.9789 - mse: 45.9789 - val_loss: 46.0952 - val_mse: 46.0952\n",
      "Epoch 88/130\n",
      "29/29 [==============================] - 0s 10ms/step - loss: 46.1972 - mse: 46.1972 - val_loss: 45.8535 - val_mse: 45.8535\n",
      "Epoch 89/130\n",
      "29/29 [==============================] - 0s 10ms/step - loss: 45.6340 - mse: 45.6340 - val_loss: 45.7375 - val_mse: 45.7375\n",
      "Epoch 90/130\n",
      "29/29 [==============================] - 0s 11ms/step - loss: 45.9698 - mse: 45.9698 - val_loss: 45.6354 - val_mse: 45.6354\n",
      "Epoch 91/130\n",
      "29/29 [==============================] - 0s 8ms/step - loss: 46.1206 - mse: 46.1206 - val_loss: 45.4264 - val_mse: 45.4264\n",
      "Epoch 92/130\n",
      "29/29 [==============================] - 0s 13ms/step - loss: 45.6569 - mse: 45.6569 - val_loss: 45.3846 - val_mse: 45.3846\n",
      "Epoch 93/130\n",
      "29/29 [==============================] - 0s 11ms/step - loss: 46.0146 - mse: 46.0146 - val_loss: 45.1474 - val_mse: 45.1474\n",
      "Epoch 94/130\n",
      "29/29 [==============================] - 0s 10ms/step - loss: 45.6254 - mse: 45.6254 - val_loss: 45.1580 - val_mse: 45.1580\n",
      "Epoch 95/130\n",
      "29/29 [==============================] - 0s 11ms/step - loss: 44.9830 - mse: 44.9830 - val_loss: 44.9909 - val_mse: 44.9909\n",
      "Epoch 96/130\n",
      "29/29 [==============================] - 0s 9ms/step - loss: 45.0807 - mse: 45.0807 - val_loss: 44.7445 - val_mse: 44.7445\n",
      "Epoch 97/130\n",
      "29/29 [==============================] - 0s 6ms/step - loss: 45.1417 - mse: 45.1417 - val_loss: 44.8133 - val_mse: 44.8133\n",
      "Epoch 98/130\n",
      "29/29 [==============================] - 0s 5ms/step - loss: 44.8560 - mse: 44.8560 - val_loss: 44.6596 - val_mse: 44.6596\n",
      "Epoch 99/130\n",
      "29/29 [==============================] - 0s 6ms/step - loss: 44.7819 - mse: 44.7819 - val_loss: 44.2838 - val_mse: 44.2838\n",
      "Epoch 100/130\n",
      "29/29 [==============================] - 0s 9ms/step - loss: 44.7371 - mse: 44.7371 - val_loss: 44.4123 - val_mse: 44.4123\n",
      "Epoch 101/130\n",
      "29/29 [==============================] - 0s 7ms/step - loss: 43.6396 - mse: 43.6396 - val_loss: 44.3310 - val_mse: 44.3310\n",
      "Epoch 102/130\n",
      "29/29 [==============================] - 0s 7ms/step - loss: 44.2010 - mse: 44.2010 - val_loss: 43.9660 - val_mse: 43.9660\n",
      "Epoch 103/130\n",
      "29/29 [==============================] - 0s 11ms/step - loss: 43.6469 - mse: 43.6469 - val_loss: 43.9510 - val_mse: 43.9510\n",
      "Epoch 104/130\n",
      "29/29 [==============================] - 0s 8ms/step - loss: 43.5164 - mse: 43.5164 - val_loss: 43.7652 - val_mse: 43.7652\n",
      "Epoch 105/130\n",
      "29/29 [==============================] - 0s 9ms/step - loss: 43.7331 - mse: 43.7331 - val_loss: 43.6455 - val_mse: 43.6455\n",
      "Epoch 106/130\n",
      "29/29 [==============================] - 0s 9ms/step - loss: 43.3940 - mse: 43.3940 - val_loss: 43.4621 - val_mse: 43.4621\n",
      "Epoch 107/130\n",
      "29/29 [==============================] - 0s 10ms/step - loss: 43.5366 - mse: 43.5366 - val_loss: 43.5202 - val_mse: 43.5202\n",
      "Epoch 108/130\n",
      "29/29 [==============================] - 0s 9ms/step - loss: 42.7265 - mse: 42.7265 - val_loss: 43.2727 - val_mse: 43.2727\n",
      "Epoch 109/130\n",
      "29/29 [==============================] - 0s 6ms/step - loss: 42.8476 - mse: 42.8476 - val_loss: 43.0797 - val_mse: 43.0797\n",
      "Epoch 110/130\n",
      "29/29 [==============================] - 0s 6ms/step - loss: 42.7935 - mse: 42.7935 - val_loss: 43.0366 - val_mse: 43.0366\n",
      "Epoch 111/130\n",
      "29/29 [==============================] - 0s 7ms/step - loss: 43.0806 - mse: 43.0806 - val_loss: 43.0033 - val_mse: 43.0033\n",
      "Epoch 112/130\n",
      "29/29 [==============================] - 0s 12ms/step - loss: 41.9686 - mse: 41.9686 - val_loss: 42.8274 - val_mse: 42.8274\n",
      "Epoch 113/130\n",
      "29/29 [==============================] - 0s 5ms/step - loss: 43.0952 - mse: 43.0952 - val_loss: 42.7281 - val_mse: 42.7281\n",
      "Epoch 114/130\n",
      "29/29 [==============================] - 0s 8ms/step - loss: 41.7317 - mse: 41.7317 - val_loss: 42.5822 - val_mse: 42.5822\n",
      "Epoch 115/130\n",
      "29/29 [==============================] - 0s 10ms/step - loss: 41.6325 - mse: 41.6325 - val_loss: 42.3980 - val_mse: 42.3980\n",
      "Epoch 116/130\n",
      "29/29 [==============================] - 0s 12ms/step - loss: 42.1443 - mse: 42.1443 - val_loss: 42.4122 - val_mse: 42.4122\n",
      "Epoch 117/130\n",
      "29/29 [==============================] - 0s 12ms/step - loss: 41.3091 - mse: 41.3091 - val_loss: 42.3257 - val_mse: 42.3257\n",
      "Epoch 118/130\n",
      "29/29 [==============================] - 0s 7ms/step - loss: 41.2773 - mse: 41.2773 - val_loss: 42.0116 - val_mse: 42.0116\n",
      "Epoch 119/130\n",
      "29/29 [==============================] - 0s 6ms/step - loss: 41.4257 - mse: 41.4257 - val_loss: 41.9320 - val_mse: 41.9320\n",
      "Epoch 120/130\n",
      "29/29 [==============================] - 0s 9ms/step - loss: 41.3089 - mse: 41.3089 - val_loss: 41.7834 - val_mse: 41.7834\n"
     ]
    },
    {
     "name": "stdout",
     "output_type": "stream",
     "text": [
      "Epoch 121/130\n",
      "29/29 [==============================] - 0s 5ms/step - loss: 41.1005 - mse: 41.1005 - val_loss: 41.6942 - val_mse: 41.6942\n",
      "Epoch 122/130\n",
      "29/29 [==============================] - 0s 6ms/step - loss: 40.8050 - mse: 40.8050 - val_loss: 41.6985 - val_mse: 41.6985\n",
      "Epoch 123/130\n",
      "29/29 [==============================] - 0s 4ms/step - loss: 41.0386 - mse: 41.0386 - val_loss: 41.6652 - val_mse: 41.6652\n",
      "Epoch 124/130\n",
      "29/29 [==============================] - 0s 10ms/step - loss: 40.7585 - mse: 40.7585 - val_loss: 41.4569 - val_mse: 41.4569\n",
      "Epoch 125/130\n",
      "29/29 [==============================] - 0s 8ms/step - loss: 40.4577 - mse: 40.4577 - val_loss: 41.3322 - val_mse: 41.3322\n",
      "Epoch 126/130\n",
      "29/29 [==============================] - 0s 16ms/step - loss: 40.3992 - mse: 40.3992 - val_loss: 41.3143 - val_mse: 41.3143\n",
      "Epoch 127/130\n",
      "29/29 [==============================] - 0s 8ms/step - loss: 40.0605 - mse: 40.0605 - val_loss: 41.0683 - val_mse: 41.0683\n",
      "Epoch 128/130\n",
      "29/29 [==============================] - 0s 10ms/step - loss: 39.6321 - mse: 39.6321 - val_loss: 40.9347 - val_mse: 40.9347\n",
      "Epoch 129/130\n",
      "29/29 [==============================] - 0s 5ms/step - loss: 40.6041 - mse: 40.6041 - val_loss: 40.7311 - val_mse: 40.7311\n",
      "Epoch 130/130\n",
      "29/29 [==============================] - 0s 8ms/step - loss: 39.8185 - mse: 39.8185 - val_loss: 40.6846 - val_mse: 40.6846\n",
      "dict_keys(['loss', 'mse', 'val_loss', 'val_mse'])\n"
     ]
    }
   ],
   "source": [
    "#Train\n",
    "model.compile(optimizer = 'adam', loss = 'mse',metrics =  ['mse'])\n",
    "hist = model.fit(X_train,y_train,epochs = 130, batch_size = 32,validation_data =(X_val,y_val))\n",
    "print(hist.history.keys())"
   ]
  },
  {
   "cell_type": "code",
   "execution_count": 7,
   "id": "95911168",
   "metadata": {},
   "outputs": [
    {
     "data": {
      "image/png": "[encoded data removed]",
      "text/plain": [
       "<Figure size 432x288 with 1 Axes>"
      ]
     },
     "metadata": {
      "needs_background": "light"
     },
     "output_type": "display_data"
    }
   ],
   "source": [
    "train_loss = hist.history['loss']\n",
    "valid_loss = hist.history['val_loss']\n",
    "ep = range(1, len(train_loss)+1)\n",
    "plt.figure()\n",
    "plt.plot(ep,train_loss,'b-')\n",
    "plt.plot(ep,valid_loss,'r-')\n",
    "plt.title('Training and validation loss')\n",
    "plt.show()"
   ]
  },
  {
   "cell_type": "code",
   "execution_count": 8,
   "id": "47033ffe",
   "metadata": {},
   "outputs": [
    {
     "data": {
      "image/png": "[encoded data removed]",
      "text/plain": [
       "<Figure size 432x288 with 1 Axes>"
      ]
     },
     "metadata": {
      "needs_background": "light"
     },
     "output_type": "display_data"
    }
   ],
   "source": [
    "train_acc = hist.history['mse']\n",
    "valid_acc = hist.history['val_mse']\n",
    "ep = range(1, len(train_loss)+1)\n",
    "plt.figure()\n",
    "plt.plot(ep,train_acc,'b-')\n",
    "plt.plot(ep,valid_acc,'r-')\n",
    "plt.title('Training and validation loss')\n",
    "plt.show()"
   ]
  },
  {
   "cell_type": "code",
   "execution_count": 9,
   "id": "e0f21997",
   "metadata": {},
   "outputs": [
    {
     "data": {
      "text/plain": [
       "[<matplotlib.lines.Line2D at 0x7f4f0c76e340>]"
      ]
     },
     "execution_count": 9,
     "metadata": {},
     "output_type": "execute_result"
    },
    {
     "data": {
      "image/png": "[encoded data removed]",
      "text/plain": [
       "<Figure size 432x288 with 1 Axes>"
      ]
     },
     "metadata": {
      "needs_background": "light"
     },
     "output_type": "display_data"
    }
   ],
   "source": [
    "#make prediction with the model and plot the solution by the model\n",
    "y_pred = model.predict(X_val)\n",
    "plt.plot(y_pred[0,:],'b-')\n",
    "plt.plot(y_val[0,:],'r-')"
   ]
  }
 ],
 "metadata": {
  "kernelspec": {
   "display_name": "Python 3",
   "language": "python",
   "name": "python3"
  },
  "language_info": {
   "codemirror_mode": {
    "name": "ipython",
    "version": 3
   },
   "file_extension": ".py",
   "mimetype": "text/x-python",
   "name": "python",
   "nbconvert_exporter": "python",
   "pygments_lexer": "ipython3",
   "version": "3.8.2"
  }
 },
 "nbformat": 4,
 "nbformat_minor": 5
}
