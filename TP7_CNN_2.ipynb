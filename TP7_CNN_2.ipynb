{
 "cells": [
  {
   "cell_type": "code",
   "execution_count": 1,
   "id": "aeb4770c",
   "metadata": {},
   "outputs": [],
   "source": [
    "%reset -f\n",
    "import numpy as np\n",
    "import matplotlib.pyplot as plt\n",
    "from keras.models import Model\n",
    "from keras.layers import Dense\n",
    "from keras import Input\n",
    "import tensorflow as tf\n",
    "from keras.layers.merge import concatenate\n",
    "\n",
    "from keras.datasets import mnist\n",
    "(train_images, train_labels), (test_images, test_labels) = mnist.load_data()\n",
    "\n",
    "from keras import models\n",
    "from keras import layers"
   ]
  },
  {
   "cell_type": "code",
   "execution_count": 2,
   "id": "60e44299",
   "metadata": {},
   "outputs": [],
   "source": [
    "# Reshaping\n",
    "X_train = train_images.reshape((60000,28,28,1))\n",
    "X_test = test_images.reshape((10000,28,28,1))\n",
    "\n",
    "# Scaling\n",
    "X_train = X_train/255\n",
    "X_test = X_test/255"
   ]
  },
  {
   "cell_type": "code",
   "execution_count": 3,
   "id": "3998723a",
   "metadata": {},
   "outputs": [],
   "source": [
    "from keras.utils import to_categorical\n",
    "y_train = to_categorical(train_labels)\n",
    "y_test = to_categorical(test_labels)"
   ]
  },
  {
   "cell_type": "code",
   "execution_count": 4,
   "id": "82bf5fb2",
   "metadata": {},
   "outputs": [
    {
     "name": "stdout",
     "output_type": "stream",
     "text": [
      "Epoch 1/4\n",
      "938/938 [==============================] - 34s 36ms/step - loss: 0.3826 - accuracy: 0.8828 - val_loss: 0.0477 - val_accuracy: 0.9836\n",
      "Epoch 2/4\n",
      "938/938 [==============================] - 32s 34ms/step - loss: 0.0529 - accuracy: 0.9832 - val_loss: 0.0373 - val_accuracy: 0.9876\n",
      "Epoch 3/4\n",
      "938/938 [==============================] - 30s 31ms/step - loss: 0.0337 - accuracy: 0.9897 - val_loss: 0.0299 - val_accuracy: 0.9903\n",
      "Epoch 4/4\n",
      "938/938 [==============================] - 31s 34ms/step - loss: 0.0270 - accuracy: 0.9920 - val_loss: 0.0352 - val_accuracy: 0.9881\n"
     ]
    },
    {
     "data": {
      "text/plain": [
       "<tensorflow.python.keras.callbacks.History at 0x7f85e8641310>"
      ]
     },
     "execution_count": 4,
     "metadata": {},
     "output_type": "execute_result"
    }
   ],
   "source": [
    "x0 = Input(shape = (28,28,1))\n",
    "\n",
    "\n",
    "x1 = layers.Conv2D(32,(3,3), strides = (1,1),activation  = 'relu', input_shape = (28,28,1))(x0)\n",
    "x2 = layers.MaxPooling2D((2,2))(x1)\n",
    "\n",
    "x3 = layers.Conv2D(64,(3,3), strides = (1,1),activation = 'relu')(x2)\n",
    "x4 = layers.MaxPooling2D((2,2))(x3)\n",
    "\n",
    "x5 = layers.Flatten()(x4)\n",
    "\n",
    "x6 = layers.Dense(64, activation = 'relu')(x5)\n",
    "x7 = layers.Dense(10, activation = 'softmax')(x6)\n",
    "\n",
    "model = Model(inputs = x0, outputs = x7)\n",
    "\n",
    "model.compile(optimizer = 'rmsprop', loss = 'categorical_crossentropy',metrics = ['accuracy'])\n",
    "model.fit(X_train,y_train,epochs = 4, batch_size = 64,\n",
    "                 validation_data = (X_test,y_test))"
   ]
  }
 ],
 "metadata": {
  "kernelspec": {
   "display_name": "Python 3",
   "language": "python",
   "name": "python3"
  },
  "language_info": {
   "codemirror_mode": {
    "name": "ipython",
    "version": 3
   },
   "file_extension": ".py",
   "mimetype": "text/x-python",
   "name": "python",
   "nbconvert_exporter": "python",
   "pygments_lexer": "ipython3",
   "version": "3.8.2"
  }
 },
 "nbformat": 4,
 "nbformat_minor": 5
}
