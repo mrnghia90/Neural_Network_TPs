{
 "cells": [
  {
   "cell_type": "code",
   "execution_count": 1,
   "id": "5bbbc257",
   "metadata": {},
   "outputs": [],
   "source": [
    "%reset -f\n",
    "import numpy as np\n",
    "import matplotlib.pyplot as plt\n",
    "from keras.models import Sequential\n",
    "from keras.layers import Dense"
   ]
  },
  {
   "cell_type": "code",
   "execution_count": 2,
   "id": "5163e146",
   "metadata": {},
   "outputs": [],
   "source": [
    "#fix random seed-1 (or whatever other integer) for reproductibility\n",
    "np.random.seed(1)"
   ]
  },
  {
   "cell_type": "code",
   "execution_count": 3,
   "id": "94ed990e",
   "metadata": {},
   "outputs": [
    {
     "data": {
      "text/plain": [
       "array([[  6.   , 148.   ,  72.   , ...,   0.627,  50.   ,   1.   ],\n",
       "       [  1.   ,  85.   ,  66.   , ...,   0.351,  31.   ,   0.   ],\n",
       "       [  8.   , 183.   ,  64.   , ...,   0.672,  32.   ,   1.   ],\n",
       "       ...,\n",
       "       [  5.   , 121.   ,  72.   , ...,   0.245,  30.   ,   0.   ],\n",
       "       [  1.   , 126.   ,  60.   , ...,   0.349,  47.   ,   1.   ],\n",
       "       [  1.   ,  93.   ,  70.   , ...,   0.315,  23.   ,   0.   ]])"
      ]
     },
     "execution_count": 3,
     "metadata": {},
     "output_type": "execute_result"
    }
   ],
   "source": [
    "#load dataset\n",
    "dataset = np.loadtxt(\"pima-indians-diabetes.csv\", delimiter = \",\")\n",
    "dataset"
   ]
  },
  {
   "cell_type": "code",
   "execution_count": 4,
   "id": "4ad63cb2",
   "metadata": {},
   "outputs": [],
   "source": [
    "# split into input (X) and output (Y) variables\n",
    "X = dataset[:, 0:8]\n",
    "Y = dataset[:, 8]"
   ]
  },
  {
   "cell_type": "code",
   "execution_count": 5,
   "id": "4b6f4e92",
   "metadata": {},
   "outputs": [
    {
     "name": "stdout",
     "output_type": "stream",
     "text": [
      "(768, 8)\n",
      "(768,)\n"
     ]
    }
   ],
   "source": [
    "#number of sample =  768 and number of features = 8\n",
    "print(X.shape)\n",
    "print(Y.shape)"
   ]
  },
  {
   "cell_type": "code",
   "execution_count": 6,
   "id": "2ba558a2",
   "metadata": {},
   "outputs": [],
   "source": [
    "# training data : 600 samples and testing data : 168 samples\n",
    "X_train = X[:600,:]\n",
    "y_train = Y[:600:]\n",
    "X_test = X[600:,:]\n",
    "y_test = Y[600:]"
   ]
  },
  {
   "cell_type": "code",
   "execution_count": 7,
   "id": "31b75604",
   "metadata": {},
   "outputs": [],
   "source": [
    "# rescaling between 0 and 1\n",
    "for i in range(8):\n",
    "    mi = min(X_train[:,i])\n",
    "    ma = max(X_train[:,i])\n",
    "    X_train[:,i] = (X_train[:,i]-mi)/(ma-mi)\n",
    "    X_test[:,i] = (X_test[:,i]-mi)/(ma-mi)"
   ]
  },
  {
   "cell_type": "code",
   "execution_count": 8,
   "id": "a2bcf24f",
   "metadata": {},
   "outputs": [],
   "source": [
    "def creat_model(opt):\n",
    "\n",
    "    model = Sequential()\n",
    "\n",
    "    model.add(Dense(12,activation = 'relu',input_dim = 8))    \n",
    "    model.add(Dense(8, activation = 'relu', kernel_initializer = \"uniform\"))\n",
    "    model.add(Dense(1, activation = 'sigmoid'))\n",
    "    \n",
    "    model.compile(optimizer = opt, loss = 'binary_crossentropy',metrics =  'accuracy')\n",
    "    \n",
    "    return model"
   ]
  },
  {
   "cell_type": "code",
   "execution_count": 9,
   "id": "4e25ccdf",
   "metadata": {},
   "outputs": [
    {
     "name": "stdout",
     "output_type": "stream",
     "text": [
      "optimizer =  rmsprop ,epoch =  15 ,loss and accuracy =  [0.6312216520309448, 0.6428571343421936]\n",
      "optimizer =  rmsprop ,epoch =  25 ,loss and accuracy =  [0.47833988070487976, 0.7797619104385376]\n",
      "optimizer =  adam ,epoch =  15 ,loss and accuracy =  [0.5534736514091492, 0.6964285969734192]\n",
      "optimizer =  adam ,epoch =  25 ,loss and accuracy =  [0.45665326714515686, 0.773809552192688]\n"
     ]
    }
   ],
   "source": [
    "optimizers = ['rmsprop', 'adam']\n",
    "epochs = np.array([15, 25])\n",
    "for opt in optimizers:\n",
    "    model = creat_model(opt)\n",
    "    for ep in epochs:\n",
    "        # Train the model\n",
    "        model.fit(X_train,y_train,epochs = ep, batch_size = 10,validation_data = (X_test,y_test), verbose = 0)\n",
    "        # evaluate the model\n",
    "        score = model.evaluate(X_test,y_test, verbose = 0)\n",
    "        \n",
    "        print('optimizer = ', opt, ',epoch = ',ep, ',loss and accuracy = ',score)\n",
    "        "
   ]
  }
 ],
 "metadata": {
  "kernelspec": {
   "display_name": "Python 3",
   "language": "python",
   "name": "python3"
  },
  "language_info": {
   "codemirror_mode": {
    "name": "ipython",
    "version": 3
   },
   "file_extension": ".py",
   "mimetype": "text/x-python",
   "name": "python",
   "nbconvert_exporter": "python",
   "pygments_lexer": "ipython3",
   "version": "3.8.2"
  }
 },
 "nbformat": 4,
 "nbformat_minor": 5
}
